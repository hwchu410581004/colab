{
  "cells": [
    {
      "cell_type": "markdown",
      "metadata": {
        "id": "view-in-github",
        "colab_type": "text"
      },
      "source": [
        "<a href=\"https://colab.research.google.com/github/hwchu410581004/colab/blob/main/Copy_of_Keras_Fashion_MNIST.ipynb\" target=\"_parent\"><img src=\"https://colab.research.google.com/assets/colab-badge.svg\" alt=\"Open In Colab\"/></a>"
      ]
    },
    {
      "cell_type": "markdown",
      "metadata": {
        "id": "N6ZDpd9XzFeN"
      },
      "source": [
        "##### Copyright 2018 The TensorFlow Hub Authors.\n",
        "\n",
        "Licensed under the Apache License, Version 2.0 (the \"License\");"
      ]
    },
    {
      "cell_type": "code",
      "execution_count": null,
      "metadata": {
        "cellView": "form",
        "id": "KUu4vOt5zI9d"
      },
      "outputs": [],
      "source": [
        "# Copyright 2018 The TensorFlow Hub Authors. All Rights Reserved.\n",
        "#\n",
        "# Licensed under the Apache License, Version 2.0 (the \"License\");\n",
        "# you may not use this file except in compliance with the License.\n",
        "# You may obtain a copy of the License at\n",
        "#\n",
        "#     http://www.apache.org/licenses/LICENSE-2.0\n",
        "#\n",
        "# Unless required by applicable law or agreed to in writing, software\n",
        "# distributed under the License is distributed on an \"AS IS\" BASIS,\n",
        "# WITHOUT WARRANTIES OR CONDITIONS OF ANY KIND, either express or implied.\n",
        "# See the License for the specific language governing permissions and\n",
        "# limitations under the License.\n",
        "# =============================================================================="
      ]
    },
    {
      "cell_type": "markdown",
      "metadata": {
        "id": "edfbxDDh2AEs"
      },
      "source": [
        "## Fashion MNIST with Keras and TPUs"
      ]
    },
    {
      "cell_type": "markdown",
      "metadata": {
        "id": "RNo1Vfghpa8j"
      },
      "source": [
        "## Overview\n",
        "\n",
        "In this example, you can try out using tf.keras and Cloud TPUs to train a model on the fashion MNIST dataset. The model trains for 10 epochs on Cloud TPU and takes approximately 2 minutes to run.\n",
        "\n",
        "This notebook is hosted on GitHub. To view it in its original repository, after opening the notebook, select **File > View on GitHub**."
      ]
    },
    {
      "cell_type": "markdown",
      "metadata": {
        "id": "dgAHfQtuhddd"
      },
      "source": [
        "## Learning objectives\n",
        "\n",
        "In this Colab, you will learn how to:\n",
        "*   Code for a standard conv-net that has 3 layers with drop-out and batch normalization between each layer in Keras.\n",
        "*   Create and compile the model under a distribution strategy in order ot use TPUs.\n",
        "*   Run a prediction to see how well the model can predict fashion categories and output the result."
      ]
    },
    {
      "cell_type": "markdown",
      "metadata": {
        "id": "QrprJD-R-410"
      },
      "source": [
        "## Instructions"
      ]
    },
    {
      "cell_type": "markdown",
      "metadata": {
        "id": "_I0RdnOSkNmi"
      },
      "source": [
        "<h3>  &nbsp;&nbsp;Train on TPU&nbsp;&nbsp; <a href=\"https://cloud.google.com/tpu/\"><img valign=\"middle\" src=\"https://raw.githubusercontent.com/GoogleCloudPlatform/tensorflow-without-a-phd/master/tensorflow-rl-pong/images/tpu-hexagon.png\" width=\"50\"></a></h3>\n",
        "\n",
        "1. On the main menu, click Runtime and select **Change runtime type**. Set \"TPU\" as the hardware accelerator.\n",
        "1. Click Runtime again and select **Runtime > Run All**. You can also run the cells manually with Shift-ENTER. "
      ]
    },
    {
      "cell_type": "markdown",
      "metadata": {
        "id": "5eEM-XOvURoU"
      },
      "source": [
        "TPUs are located in Google Cloud, for optimal performance, they read data directly from Google Cloud Storage (GCS)"
      ]
    },
    {
      "cell_type": "markdown",
      "metadata": {
        "id": "Lvo0t7XVIkWZ"
      },
      "source": [
        "## Data, model, and training"
      ]
    },
    {
      "cell_type": "markdown",
      "metadata": {
        "id": "MICrRv8rmXVq"
      },
      "source": [
        "Begin by downloading the fashion MNIST dataset using `tf.keras.datasets`, as shown below."
      ]
    },
    {
      "cell_type": "code",
      "execution_count": null,
      "metadata": {
        "id": "Zo-Yk6LFGfSf",
        "colab": {
          "base_uri": "https://localhost:8080/"
        },
        "outputId": "3ac8fd74-dfb4-4ef9-b5b0-80090f76f71b"
      },
      "outputs": [
        {
          "output_type": "stream",
          "name": "stdout",
          "text": [
            "Downloading data from https://storage.googleapis.com/tensorflow/tf-keras-datasets/train-labels-idx1-ubyte.gz\n",
            "29515/29515 [==============================] - 0s 0us/step\n",
            "Downloading data from https://storage.googleapis.com/tensorflow/tf-keras-datasets/train-images-idx3-ubyte.gz\n",
            "    8192/26421880 [..............................] - ETA: 0s"
          ]
        },
        {
          "output_type": "stream",
          "name": "stderr",
          "text": [
            "<ipython-input-1-3ed4a1ad963d>:7: DeprecationWarning: distutils Version classes are deprecated. Use packaging.version instead.\n",
            "  if distutils.version.LooseVersion(tf.__version__) <= '2.0':\n"
          ]
        },
        {
          "output_type": "stream",
          "name": "stdout",
          "text": [
            "26421880/26421880 [==============================] - 0s 0us/step\n",
            "Downloading data from https://storage.googleapis.com/tensorflow/tf-keras-datasets/t10k-labels-idx1-ubyte.gz\n",
            "5148/5148 [==============================] - 0s 0us/step\n",
            "Downloading data from https://storage.googleapis.com/tensorflow/tf-keras-datasets/t10k-images-idx3-ubyte.gz\n",
            "4422102/4422102 [==============================] - 0s 0us/step\n"
          ]
        }
      ],
      "source": [
        "import tensorflow as tf\n",
        "import numpy as np\n",
        "import os\n",
        "import timeit\n",
        "\n",
        "import distutils\n",
        "if distutils.version.LooseVersion(tf.__version__) <= '2.0':\n",
        "    raise Exception('This notebook is compatible with TensorFlow 1.14 or higher, for TensorFlow 1.13 or lower please use the previous version at https://github.com/tensorflow/tpu/blob/r1.13/tools/colab/fashion_mnist.ipynb')\n",
        "\n",
        "(x_train, y_train), (x_test, y_test) = tf.keras.datasets.fashion_mnist.load_data()\n",
        "\n",
        "# add empty color dimension\n",
        "x_train = np.expand_dims(x_train, -1)\n",
        "x_test = np.expand_dims(x_test, -1)"
      ]
    },
    {
      "cell_type": "markdown",
      "metadata": {
        "id": "Hgc2FZKVMx15"
      },
      "source": [
        "### Define the model\n",
        "\n",
        "The following example uses a standard conv-net that has 3 layers with drop-out and batch normalization between each layer."
      ]
    },
    {
      "cell_type": "code",
      "execution_count": null,
      "metadata": {
        "id": "W7gMbs70GxA7"
      },
      "outputs": [],
      "source": [
        "def create_model():\n",
        "  model = tf.keras.models.Sequential()\n",
        "  model.add(tf.keras.layers.BatchNormalization(input_shape=x_train.shape[1:]))\n",
        "  model.add(tf.keras.layers.Conv2D(64, (5, 5), padding='same', activation='elu'))\n",
        "  model.add(tf.keras.layers.MaxPooling2D(pool_size=(2, 2), strides=(2,2)))\n",
        "  model.add(tf.keras.layers.Dropout(0.25))\n",
        "\n",
        "  model.add(tf.keras.layers.BatchNormalization(input_shape=x_train.shape[1:]))\n",
        "  model.add(tf.keras.layers.Conv2D(128, (5, 5), padding='same', activation='elu'))\n",
        "  model.add(tf.keras.layers.MaxPooling2D(pool_size=(2, 2)))\n",
        "  model.add(tf.keras.layers.Dropout(0.25))\n",
        "\n",
        "  model.add(tf.keras.layers.BatchNormalization(input_shape=x_train.shape[1:]))\n",
        "  model.add(tf.keras.layers.Conv2D(256, (5, 5), padding='same', activation='elu'))\n",
        "  model.add(tf.keras.layers.MaxPooling2D(pool_size=(2, 2), strides=(2,2)))\n",
        "  model.add(tf.keras.layers.Dropout(0.25))\n",
        "\n",
        "  model.add(tf.keras.layers.Flatten())\n",
        "  model.add(tf.keras.layers.Dense(256))\n",
        "  model.add(tf.keras.layers.Activation('elu'))\n",
        "  model.add(tf.keras.layers.Dropout(0.5))\n",
        "  model.add(tf.keras.layers.Dense(10))\n",
        "  model.add(tf.keras.layers.Activation('softmax'))\n",
        "  return model"
      ]
    },
    {
      "cell_type": "code",
      "source": [
        "model=create_model()\n",
        "model.summary()"
      ],
      "metadata": {
        "colab": {
          "base_uri": "https://localhost:8080/"
        },
        "id": "lLAXdOUXHinH",
        "outputId": "12c7b686-1e4c-4966-d7d2-810185ba8ff1"
      },
      "execution_count": null,
      "outputs": [
        {
          "output_type": "stream",
          "name": "stdout",
          "text": [
            "Model: \"sequential\"\n",
            "_________________________________________________________________\n",
            " Layer (type)                Output Shape              Param #   \n",
            "=================================================================\n",
            " batch_normalization (BatchN  (None, 28, 28, 1)        4         \n",
            " ormalization)                                                   \n",
            "                                                                 \n",
            " conv2d (Conv2D)             (None, 28, 28, 64)        1664      \n",
            "                                                                 \n",
            " max_pooling2d (MaxPooling2D  (None, 14, 14, 64)       0         \n",
            " )                                                               \n",
            "                                                                 \n",
            " dropout (Dropout)           (None, 14, 14, 64)        0         \n",
            "                                                                 \n",
            " batch_normalization_1 (Batc  (None, 14, 14, 64)       256       \n",
            " hNormalization)                                                 \n",
            "                                                                 \n",
            " conv2d_1 (Conv2D)           (None, 14, 14, 128)       204928    \n",
            "                                                                 \n",
            " max_pooling2d_1 (MaxPooling  (None, 7, 7, 128)        0         \n",
            " 2D)                                                             \n",
            "                                                                 \n",
            " dropout_1 (Dropout)         (None, 7, 7, 128)         0         \n",
            "                                                                 \n",
            " batch_normalization_2 (Batc  (None, 7, 7, 128)        512       \n",
            " hNormalization)                                                 \n",
            "                                                                 \n",
            " conv2d_2 (Conv2D)           (None, 7, 7, 256)         819456    \n",
            "                                                                 \n",
            " max_pooling2d_2 (MaxPooling  (None, 3, 3, 256)        0         \n",
            " 2D)                                                             \n",
            "                                                                 \n",
            " dropout_2 (Dropout)         (None, 3, 3, 256)         0         \n",
            "                                                                 \n",
            " flatten (Flatten)           (None, 2304)              0         \n",
            "                                                                 \n",
            " dense (Dense)               (None, 256)               590080    \n",
            "                                                                 \n",
            " activation (Activation)     (None, 256)               0         \n",
            "                                                                 \n",
            " dropout_3 (Dropout)         (None, 256)               0         \n",
            "                                                                 \n",
            " dense_1 (Dense)             (None, 10)                2570      \n",
            "                                                                 \n",
            " activation_1 (Activation)   (None, 10)                0         \n",
            "                                                                 \n",
            "=================================================================\n",
            "Total params: 1,619,470\n",
            "Trainable params: 1,619,084\n",
            "Non-trainable params: 386\n",
            "_________________________________________________________________\n"
          ]
        }
      ]
    },
    {
      "cell_type": "markdown",
      "metadata": {
        "id": "xLeZATVaNAnE"
      },
      "source": [
        "### Train on the TPU\n",
        "\n",
        "To begin training, construct the model on the TPU and then compile it."
      ]
    },
    {
      "cell_type": "code",
      "execution_count": null,
      "metadata": {
        "id": "pWEYmd_hIWg8",
        "colab": {
          "base_uri": "https://localhost:8080/"
        },
        "outputId": "65103a7b-4cb6-4a5c-885c-0be901032aa5"
      },
      "outputs": [
        {
          "output_type": "stream",
          "name": "stdout",
          "text": [
            "Running on TPU  ['10.72.102.138:8470']\n"
          ]
        },
        {
          "output_type": "stream",
          "name": "stderr",
          "text": [
            "WARNING:tensorflow:TPU system grpc://10.72.102.138:8470 has already been initialized. Reinitializing the TPU can cause previously created variables on TPU to be lost.\n"
          ]
        },
        {
          "output_type": "stream",
          "name": "stdout",
          "text": [
            "All devices:  [LogicalDevice(name='/job:worker/replica:0/task:0/device:TPU:0', device_type='TPU'), LogicalDevice(name='/job:worker/replica:0/task:0/device:TPU:1', device_type='TPU'), LogicalDevice(name='/job:worker/replica:0/task:0/device:TPU:2', device_type='TPU'), LogicalDevice(name='/job:worker/replica:0/task:0/device:TPU:3', device_type='TPU'), LogicalDevice(name='/job:worker/replica:0/task:0/device:TPU:4', device_type='TPU'), LogicalDevice(name='/job:worker/replica:0/task:0/device:TPU:5', device_type='TPU'), LogicalDevice(name='/job:worker/replica:0/task:0/device:TPU:6', device_type='TPU'), LogicalDevice(name='/job:worker/replica:0/task:0/device:TPU:7', device_type='TPU')]\n",
            "TPU (s):\n",
            "Epoch 1/100\n",
            "60/60 [==============================] - 4s 22ms/step - loss: 1.0159 - sparse_categorical_accuracy: 0.7029\n",
            "Epoch 2/100\n",
            "60/60 [==============================] - 1s 22ms/step - loss: 0.5126 - sparse_categorical_accuracy: 0.8241\n",
            "Epoch 3/100\n",
            "60/60 [==============================] - 1s 22ms/step - loss: 0.4203 - sparse_categorical_accuracy: 0.8537\n",
            "Epoch 4/100\n",
            "60/60 [==============================] - 1s 24ms/step - loss: 0.3662 - sparse_categorical_accuracy: 0.8727\n",
            "Epoch 5/100\n",
            "60/60 [==============================] - 1s 23ms/step - loss: 0.3358 - sparse_categorical_accuracy: 0.8798\n",
            "Epoch 6/100\n",
            "60/60 [==============================] - 1s 23ms/step - loss: 0.3066 - sparse_categorical_accuracy: 0.8919\n",
            "Epoch 7/100\n",
            "60/60 [==============================] - 1s 22ms/step - loss: 0.2811 - sparse_categorical_accuracy: 0.8981\n",
            "Epoch 8/100\n",
            "60/60 [==============================] - 1s 22ms/step - loss: 0.2568 - sparse_categorical_accuracy: 0.9053\n",
            "Epoch 9/100\n",
            "60/60 [==============================] - 1s 22ms/step - loss: 0.2424 - sparse_categorical_accuracy: 0.9106\n",
            "Epoch 10/100\n",
            "60/60 [==============================] - 1s 22ms/step - loss: 0.2309 - sparse_categorical_accuracy: 0.9151\n",
            "Epoch 11/100\n",
            "60/60 [==============================] - 1s 22ms/step - loss: 0.2119 - sparse_categorical_accuracy: 0.9216\n",
            "Epoch 12/100\n",
            "60/60 [==============================] - 1s 22ms/step - loss: 0.2011 - sparse_categorical_accuracy: 0.9261\n",
            "Epoch 13/100\n",
            "60/60 [==============================] - 1s 22ms/step - loss: 0.1887 - sparse_categorical_accuracy: 0.9301\n",
            "Epoch 14/100\n",
            "60/60 [==============================] - 2s 25ms/step - loss: 0.1801 - sparse_categorical_accuracy: 0.9329\n",
            "Epoch 15/100\n",
            "60/60 [==============================] - 1s 23ms/step - loss: 0.1691 - sparse_categorical_accuracy: 0.9366\n",
            "Epoch 16/100\n",
            "60/60 [==============================] - 2s 39ms/step - loss: 0.1607 - sparse_categorical_accuracy: 0.9402\n",
            "Epoch 17/100\n",
            "60/60 [==============================] - 8s 143ms/step - loss: 0.1527 - sparse_categorical_accuracy: 0.9424 - val_loss: 0.2267 - val_sparse_categorical_accuracy: 0.9250\n",
            "Epoch 18/100\n",
            "60/60 [==============================] - 1s 22ms/step - loss: 0.1454 - sparse_categorical_accuracy: 0.9452\n",
            "Epoch 19/100\n",
            "60/60 [==============================] - 2s 32ms/step - loss: 0.1347 - sparse_categorical_accuracy: 0.9495\n",
            "Epoch 20/100\n",
            "60/60 [==============================] - 1s 23ms/step - loss: 0.1303 - sparse_categorical_accuracy: 0.9513\n",
            "Epoch 21/100\n",
            "60/60 [==============================] - 1s 22ms/step - loss: 0.1255 - sparse_categorical_accuracy: 0.9520\n",
            "Epoch 22/100\n",
            "60/60 [==============================] - 1s 21ms/step - loss: 0.1182 - sparse_categorical_accuracy: 0.9551\n",
            "Epoch 23/100\n",
            "60/60 [==============================] - 1s 21ms/step - loss: 0.1145 - sparse_categorical_accuracy: 0.9563\n",
            "Epoch 24/100\n",
            "60/60 [==============================] - 1s 22ms/step - loss: 0.1085 - sparse_categorical_accuracy: 0.9584\n",
            "Epoch 25/100\n",
            "60/60 [==============================] - 1s 23ms/step - loss: 0.1028 - sparse_categorical_accuracy: 0.9611\n",
            "Epoch 26/100\n",
            "60/60 [==============================] - 1s 22ms/step - loss: 0.0995 - sparse_categorical_accuracy: 0.9621\n",
            "Epoch 27/100\n",
            "60/60 [==============================] - 1s 22ms/step - loss: 0.0943 - sparse_categorical_accuracy: 0.9649\n",
            "Epoch 28/100\n",
            "60/60 [==============================] - 1s 22ms/step - loss: 0.0930 - sparse_categorical_accuracy: 0.9650\n",
            "Epoch 29/100\n",
            "60/60 [==============================] - 1s 23ms/step - loss: 0.0868 - sparse_categorical_accuracy: 0.9663\n",
            "Epoch 30/100\n",
            "60/60 [==============================] - 1s 23ms/step - loss: 0.0826 - sparse_categorical_accuracy: 0.9689\n",
            "Epoch 31/100\n",
            "60/60 [==============================] - 2s 32ms/step - loss: 0.0818 - sparse_categorical_accuracy: 0.9695\n",
            "Epoch 32/100\n",
            "60/60 [==============================] - 1s 23ms/step - loss: 0.0778 - sparse_categorical_accuracy: 0.9707\n",
            "Epoch 33/100\n",
            "60/60 [==============================] - 1s 22ms/step - loss: 0.0752 - sparse_categorical_accuracy: 0.9720\n",
            "Epoch 34/100\n",
            "60/60 [==============================] - 5s 76ms/step - loss: 0.0755 - sparse_categorical_accuracy: 0.9719 - val_loss: 0.2902 - val_sparse_categorical_accuracy: 0.9237\n",
            "Epoch 35/100\n",
            "60/60 [==============================] - 1s 22ms/step - loss: 0.0722 - sparse_categorical_accuracy: 0.9725\n",
            "Epoch 36/100\n",
            "60/60 [==============================] - 1s 22ms/step - loss: 0.0660 - sparse_categorical_accuracy: 0.9744\n",
            "Epoch 37/100\n",
            "60/60 [==============================] - 1s 25ms/step - loss: 0.0667 - sparse_categorical_accuracy: 0.9746\n",
            "Epoch 38/100\n",
            "60/60 [==============================] - 1s 22ms/step - loss: 0.0637 - sparse_categorical_accuracy: 0.9758\n",
            "Epoch 39/100\n",
            "60/60 [==============================] - 2s 28ms/step - loss: 0.0633 - sparse_categorical_accuracy: 0.9758\n",
            "Epoch 40/100\n",
            "60/60 [==============================] - 2s 26ms/step - loss: 0.0584 - sparse_categorical_accuracy: 0.9777\n",
            "Epoch 41/100\n",
            "60/60 [==============================] - 1s 24ms/step - loss: 0.0582 - sparse_categorical_accuracy: 0.9780\n",
            "Epoch 42/100\n",
            "60/60 [==============================] - 1s 22ms/step - loss: 0.0563 - sparse_categorical_accuracy: 0.9785\n",
            "Epoch 43/100\n",
            "60/60 [==============================] - 1s 22ms/step - loss: 0.0552 - sparse_categorical_accuracy: 0.9790\n",
            "Epoch 44/100\n",
            "60/60 [==============================] - 1s 21ms/step - loss: 0.0502 - sparse_categorical_accuracy: 0.9810\n",
            "Epoch 45/100\n",
            "60/60 [==============================] - 1s 21ms/step - loss: 0.0552 - sparse_categorical_accuracy: 0.9791\n",
            "Epoch 46/100\n",
            "60/60 [==============================] - 1s 22ms/step - loss: 0.0530 - sparse_categorical_accuracy: 0.9801\n",
            "Epoch 47/100\n",
            "60/60 [==============================] - 1s 24ms/step - loss: 0.0489 - sparse_categorical_accuracy: 0.9818\n",
            "Epoch 48/100\n",
            "60/60 [==============================] - 1s 22ms/step - loss: 0.0511 - sparse_categorical_accuracy: 0.9809\n",
            "Epoch 49/100\n",
            "60/60 [==============================] - 1s 23ms/step - loss: 0.0505 - sparse_categorical_accuracy: 0.9815\n",
            "Epoch 50/100\n",
            "60/60 [==============================] - 1s 22ms/step - loss: 0.0465 - sparse_categorical_accuracy: 0.9827\n",
            "Epoch 51/100\n",
            "60/60 [==============================] - 4s 75ms/step - loss: 0.0506 - sparse_categorical_accuracy: 0.9810 - val_loss: 0.3392 - val_sparse_categorical_accuracy: 0.9277\n",
            "Epoch 52/100\n",
            "60/60 [==============================] - 1s 23ms/step - loss: 0.0448 - sparse_categorical_accuracy: 0.9837\n",
            "Epoch 53/100\n",
            "60/60 [==============================] - 1s 22ms/step - loss: 0.0443 - sparse_categorical_accuracy: 0.9838\n",
            "Epoch 54/100\n",
            "60/60 [==============================] - 1s 23ms/step - loss: 0.0458 - sparse_categorical_accuracy: 0.9829\n",
            "Epoch 55/100\n",
            "60/60 [==============================] - 1s 23ms/step - loss: 0.0425 - sparse_categorical_accuracy: 0.9840\n",
            "Epoch 56/100\n",
            "60/60 [==============================] - 1s 22ms/step - loss: 0.0435 - sparse_categorical_accuracy: 0.9839\n",
            "Epoch 57/100\n",
            "60/60 [==============================] - 1s 22ms/step - loss: 0.0457 - sparse_categorical_accuracy: 0.9833\n",
            "Epoch 58/100\n",
            "60/60 [==============================] - 1s 21ms/step - loss: 0.0405 - sparse_categorical_accuracy: 0.9858\n",
            "Epoch 59/100\n",
            "60/60 [==============================] - 1s 22ms/step - loss: 0.0429 - sparse_categorical_accuracy: 0.9843\n",
            "Epoch 60/100\n",
            "60/60 [==============================] - 1s 21ms/step - loss: 0.0434 - sparse_categorical_accuracy: 0.9843\n",
            "Epoch 61/100\n",
            "60/60 [==============================] - 1s 21ms/step - loss: 0.0414 - sparse_categorical_accuracy: 0.9850\n",
            "Epoch 62/100\n",
            "60/60 [==============================] - 1s 22ms/step - loss: 0.0415 - sparse_categorical_accuracy: 0.9850\n",
            "Epoch 63/100\n",
            "60/60 [==============================] - 1s 23ms/step - loss: 0.0400 - sparse_categorical_accuracy: 0.9851\n",
            "Epoch 64/100\n",
            "60/60 [==============================] - 1s 23ms/step - loss: 0.0400 - sparse_categorical_accuracy: 0.9856\n",
            "Epoch 65/100\n",
            "60/60 [==============================] - 1s 23ms/step - loss: 0.0387 - sparse_categorical_accuracy: 0.9863\n",
            "Epoch 66/100\n",
            "60/60 [==============================] - 1s 22ms/step - loss: 0.0349 - sparse_categorical_accuracy: 0.9876\n",
            "Epoch 67/100\n",
            "60/60 [==============================] - 1s 22ms/step - loss: 0.0364 - sparse_categorical_accuracy: 0.9869\n",
            "Epoch 68/100\n",
            "60/60 [==============================] - 4s 74ms/step - loss: 0.0339 - sparse_categorical_accuracy: 0.9877 - val_loss: 0.3875 - val_sparse_categorical_accuracy: 0.9310\n",
            "Epoch 69/100\n",
            "60/60 [==============================] - 1s 21ms/step - loss: 0.0370 - sparse_categorical_accuracy: 0.9864\n",
            "Epoch 70/100\n",
            "60/60 [==============================] - 1s 22ms/step - loss: 0.0346 - sparse_categorical_accuracy: 0.9868\n",
            "Epoch 71/100\n",
            "60/60 [==============================] - 1s 22ms/step - loss: 0.0380 - sparse_categorical_accuracy: 0.9862\n",
            "Epoch 72/100\n",
            "60/60 [==============================] - 1s 22ms/step - loss: 0.0368 - sparse_categorical_accuracy: 0.9860\n",
            "Epoch 73/100\n",
            "60/60 [==============================] - 1s 23ms/step - loss: 0.0333 - sparse_categorical_accuracy: 0.9877\n",
            "Epoch 74/100\n",
            "60/60 [==============================] - 1s 22ms/step - loss: 0.0347 - sparse_categorical_accuracy: 0.9878\n",
            "Epoch 75/100\n",
            "60/60 [==============================] - 1s 22ms/step - loss: 0.0341 - sparse_categorical_accuracy: 0.9879\n",
            "Epoch 76/100\n",
            "60/60 [==============================] - 1s 21ms/step - loss: 0.0353 - sparse_categorical_accuracy: 0.9875\n",
            "Epoch 77/100\n",
            "60/60 [==============================] - 1s 21ms/step - loss: 0.0304 - sparse_categorical_accuracy: 0.9890\n",
            "Epoch 78/100\n",
            "60/60 [==============================] - 1s 22ms/step - loss: 0.0334 - sparse_categorical_accuracy: 0.9883\n",
            "Epoch 79/100\n",
            "60/60 [==============================] - 1s 22ms/step - loss: 0.0305 - sparse_categorical_accuracy: 0.9890\n",
            "Epoch 80/100\n",
            "60/60 [==============================] - 1s 22ms/step - loss: 0.0352 - sparse_categorical_accuracy: 0.9880\n",
            "Epoch 81/100\n",
            "60/60 [==============================] - 1s 22ms/step - loss: 0.0333 - sparse_categorical_accuracy: 0.9881\n",
            "Epoch 82/100\n",
            "60/60 [==============================] - 1s 22ms/step - loss: 0.0330 - sparse_categorical_accuracy: 0.9880\n",
            "Epoch 83/100\n",
            "60/60 [==============================] - 1s 23ms/step - loss: 0.0344 - sparse_categorical_accuracy: 0.9883\n",
            "Epoch 84/100\n",
            "60/60 [==============================] - 1s 23ms/step - loss: 0.0309 - sparse_categorical_accuracy: 0.9892\n",
            "Epoch 85/100\n",
            "60/60 [==============================] - 4s 75ms/step - loss: 0.0306 - sparse_categorical_accuracy: 0.9887 - val_loss: 0.4407 - val_sparse_categorical_accuracy: 0.9286\n",
            "Epoch 86/100\n",
            "60/60 [==============================] - 1s 22ms/step - loss: 0.0318 - sparse_categorical_accuracy: 0.9889\n",
            "Epoch 87/100\n",
            "60/60 [==============================] - 1s 23ms/step - loss: 0.0306 - sparse_categorical_accuracy: 0.9890\n",
            "Epoch 88/100\n",
            "60/60 [==============================] - 1s 22ms/step - loss: 0.0284 - sparse_categorical_accuracy: 0.9898\n",
            "Epoch 89/100\n",
            "60/60 [==============================] - 1s 22ms/step - loss: 0.0287 - sparse_categorical_accuracy: 0.9897\n",
            "Epoch 90/100\n",
            "60/60 [==============================] - 1s 24ms/step - loss: 0.0271 - sparse_categorical_accuracy: 0.9904\n",
            "Epoch 91/100\n",
            "60/60 [==============================] - 1s 23ms/step - loss: 0.0289 - sparse_categorical_accuracy: 0.9893\n",
            "Epoch 92/100\n",
            "60/60 [==============================] - 1s 22ms/step - loss: 0.0292 - sparse_categorical_accuracy: 0.9900\n",
            "Epoch 93/100\n",
            "60/60 [==============================] - 1s 22ms/step - loss: 0.0289 - sparse_categorical_accuracy: 0.9896\n",
            "Epoch 94/100\n",
            "60/60 [==============================] - 1s 22ms/step - loss: 0.0315 - sparse_categorical_accuracy: 0.9889\n",
            "Epoch 95/100\n",
            "60/60 [==============================] - 1s 22ms/step - loss: 0.0329 - sparse_categorical_accuracy: 0.9887\n",
            "Epoch 96/100\n",
            "60/60 [==============================] - 1s 22ms/step - loss: 0.0289 - sparse_categorical_accuracy: 0.9899\n",
            "Epoch 97/100\n",
            "60/60 [==============================] - 1s 22ms/step - loss: 0.0284 - sparse_categorical_accuracy: 0.9901\n",
            "Epoch 98/100\n",
            "60/60 [==============================] - 1s 22ms/step - loss: 0.0267 - sparse_categorical_accuracy: 0.9902\n",
            "Epoch 99/100\n",
            "60/60 [==============================] - 1s 22ms/step - loss: 0.0270 - sparse_categorical_accuracy: 0.9906\n",
            "Epoch 100/100\n",
            "60/60 [==============================] - 1s 22ms/step - loss: 0.0298 - sparse_categorical_accuracy: 0.9893\n",
            "169.967583439 8.49837917195\n"
          ]
        }
      ],
      "source": [
        "tf.keras.backend.clear_session()\n",
        "\n",
        "try:\n",
        "    # resolver = tf.distribute.cluster_resolver.TPUClusterResolver()  # TPU detection\n",
        "    resolver = tf.distribute.cluster_resolver.TPUClusterResolver('grpc://' + os.environ['COLAB_TPU_ADDR'])\n",
        "    print('Running on TPU ', resolver.cluster_spec().as_dict()['worker'])\n",
        "except ValueError:\n",
        "    raise BaseException('ERROR: Not connected to a TPU runtime; please see the previous cell in this notebook for instructions!')\n",
        "\n",
        "# resolver = tf.distribute.cluster_resolver.TPUClusterResolver('grpc://' + os.environ['COLAB_TPU_ADDR'])\n",
        "tf.config.experimental_connect_to_cluster(resolver)\n",
        "\n",
        "# This is the TPU initialization code that has to be at the beginning.\n",
        "tf.tpu.experimental.initialize_tpu_system(resolver)\n",
        "print(\"All devices: \", tf.config.list_logical_devices('TPU'))\n",
        "\n",
        "strategy = tf.distribute.TPUStrategy(resolver) #tf.distribute.experimental.TPUStrategy(resolver) is deprecated\n",
        "\n",
        "def tpu():\n",
        "    with strategy.scope():\n",
        "        model = create_model()\n",
        "        model.compile(\n",
        "            optimizer=tf.keras.optimizers.Adam(learning_rate=1e-3, ),\n",
        "            loss='sparse_categorical_crossentropy',\n",
        "            metrics=['sparse_categorical_accuracy'])\n",
        "    model.fit(\n",
        "        x_train.astype(np.float32), y_train.astype(np.float32),\n",
        "        epochs=100,\n",
        "        steps_per_epoch=60,\n",
        "        validation_data=(x_test.astype(np.float32), y_test.astype(np.float32)),\n",
        "        validation_freq=17\n",
        "    )\n",
        "    model.save_weights('./fashion_mnist.h5', overwrite=True)\n",
        "\n",
        "# tpu()\n",
        "num=1\n",
        "print('TPU (s):')\n",
        "tpu_time = timeit.timeit('tpu()', number=num, setup=\"from __main__ import tpu\")\n",
        "print(tpu_time,tpu_time/20)"
      ]
    },
    {
      "cell_type": "code",
      "source": [
        "#此段可省略\n",
        "device_name = tf.test.gpu_device_name()\n",
        "if device_name != '/device:GPU:0':\n",
        "    print(\n",
        "        '\\n\\nThis error most likely means that this notebook is not '\n",
        "        'configured to use a GPU.  Change this in Notebook Settings via the '\n",
        "        'command palette (cmd/ctrl-shift-P) or the Edit menu.\\n\\n')\n",
        "    raise SystemError('GPU device not found')\n",
        "\n",
        "def gpu():\n",
        "    # with tf.device('/device:GPU:0'):\n",
        "    model = create_model()\n",
        "    model.compile(\n",
        "        optimizer=tf.keras.optimizers.Adam(learning_rate=1e-3, ),\n",
        "        loss='sparse_categorical_crossentropy',\n",
        "        metrics=['sparse_categorical_accuracy'])\n",
        "    model.fit(\n",
        "        x_train.astype(np.float32), y_train.astype(np.float32),\n",
        "        epochs=100,\n",
        "        steps_per_epoch=60,\n",
        "        validation_data=(x_test.astype(np.float32), y_test.astype(np.float32)),\n",
        "        validation_freq=17\n",
        "    )\n",
        "\n",
        "# gpu()\n",
        "num=1\n",
        "print('GPU (s):')\n",
        "gpu_time = timeit.timeit('gpu()', number=num, setup=\"from __main__ import gpu\")\n",
        "print(gpu_time,gpu_time/20)"
      ],
      "metadata": {
        "id": "mBL3mhm9ShL1",
        "colab": {
          "base_uri": "https://localhost:8080/"
        },
        "outputId": "37b0e5da-499d-43ef-8afd-61e6158a114e"
      },
      "execution_count": null,
      "outputs": [
        {
          "output_type": "stream",
          "name": "stdout",
          "text": [
            "GPU (s):\n",
            "Epoch 1/100\n",
            "60/60 [==============================] - 11s 117ms/step - loss: 1.1969 - sparse_categorical_accuracy: 0.6709\n",
            "Epoch 2/100\n",
            "60/60 [==============================] - 7s 117ms/step - loss: 0.5349 - sparse_categorical_accuracy: 0.8153\n",
            "Epoch 3/100\n",
            "60/60 [==============================] - 7s 118ms/step - loss: 0.4405 - sparse_categorical_accuracy: 0.8454\n",
            "Epoch 4/100\n",
            "60/60 [==============================] - 7s 120ms/step - loss: 0.3828 - sparse_categorical_accuracy: 0.8671\n",
            "Epoch 5/100\n",
            "60/60 [==============================] - 7s 121ms/step - loss: 0.3390 - sparse_categorical_accuracy: 0.8815\n",
            "Epoch 6/100\n",
            "60/60 [==============================] - 7s 121ms/step - loss: 0.3136 - sparse_categorical_accuracy: 0.8873\n",
            "Epoch 7/100\n",
            "60/60 [==============================] - 7s 122ms/step - loss: 0.2891 - sparse_categorical_accuracy: 0.8959\n",
            "Epoch 8/100\n",
            "60/60 [==============================] - 7s 121ms/step - loss: 0.2638 - sparse_categorical_accuracy: 0.9035\n",
            "Epoch 9/100\n",
            "60/60 [==============================] - 7s 122ms/step - loss: 0.2520 - sparse_categorical_accuracy: 0.9077\n",
            "Epoch 10/100\n",
            "60/60 [==============================] - 7s 122ms/step - loss: 0.2343 - sparse_categorical_accuracy: 0.9140\n",
            "Epoch 11/100\n",
            "60/60 [==============================] - 7s 122ms/step - loss: 0.2165 - sparse_categorical_accuracy: 0.9208\n",
            "Epoch 12/100\n",
            "60/60 [==============================] - 7s 122ms/step - loss: 0.2077 - sparse_categorical_accuracy: 0.9239\n",
            "Epoch 13/100\n",
            "60/60 [==============================] - 7s 122ms/step - loss: 0.1902 - sparse_categorical_accuracy: 0.9296\n",
            "Epoch 14/100\n",
            "60/60 [==============================] - 7s 121ms/step - loss: 0.1817 - sparse_categorical_accuracy: 0.9330\n",
            "Epoch 15/100\n",
            "60/60 [==============================] - 7s 121ms/step - loss: 0.1717 - sparse_categorical_accuracy: 0.9361\n",
            "Epoch 16/100\n",
            "60/60 [==============================] - 7s 121ms/step - loss: 0.1611 - sparse_categorical_accuracy: 0.9395\n",
            "Epoch 17/100\n",
            "60/60 [==============================] - 9s 149ms/step - loss: 0.1587 - sparse_categorical_accuracy: 0.9400 - val_loss: 0.2352 - val_sparse_categorical_accuracy: 0.9193\n",
            "Epoch 18/100\n",
            "60/60 [==============================] - 7s 122ms/step - loss: 0.1466 - sparse_categorical_accuracy: 0.9460\n",
            "Epoch 19/100\n",
            "60/60 [==============================] - 7s 122ms/step - loss: 0.1365 - sparse_categorical_accuracy: 0.9488\n",
            "Epoch 20/100\n",
            "60/60 [==============================] - 7s 121ms/step - loss: 0.1334 - sparse_categorical_accuracy: 0.9496\n",
            "Epoch 21/100\n",
            "60/60 [==============================] - 7s 122ms/step - loss: 0.1245 - sparse_categorical_accuracy: 0.9525\n",
            "Epoch 22/100\n",
            "60/60 [==============================] - 7s 121ms/step - loss: 0.1217 - sparse_categorical_accuracy: 0.9538\n",
            "Epoch 23/100\n",
            "60/60 [==============================] - 7s 121ms/step - loss: 0.1153 - sparse_categorical_accuracy: 0.9560\n",
            "Epoch 24/100\n",
            "60/60 [==============================] - 7s 121ms/step - loss: 0.1101 - sparse_categorical_accuracy: 0.9590\n",
            "Epoch 25/100\n",
            "60/60 [==============================] - 7s 122ms/step - loss: 0.1070 - sparse_categorical_accuracy: 0.9594\n",
            "Epoch 26/100\n",
            "60/60 [==============================] - 7s 121ms/step - loss: 0.1004 - sparse_categorical_accuracy: 0.9618\n",
            "Epoch 27/100\n",
            "60/60 [==============================] - 7s 121ms/step - loss: 0.0984 - sparse_categorical_accuracy: 0.9628\n",
            "Epoch 28/100\n",
            "60/60 [==============================] - 7s 122ms/step - loss: 0.0906 - sparse_categorical_accuracy: 0.9658\n",
            "Epoch 29/100\n",
            "60/60 [==============================] - 7s 122ms/step - loss: 0.0904 - sparse_categorical_accuracy: 0.9658\n",
            "Epoch 30/100\n",
            "60/60 [==============================] - 7s 121ms/step - loss: 0.0862 - sparse_categorical_accuracy: 0.9676\n",
            "Epoch 31/100\n",
            "60/60 [==============================] - 7s 122ms/step - loss: 0.0826 - sparse_categorical_accuracy: 0.9694\n",
            "Epoch 32/100\n",
            "60/60 [==============================] - 7s 121ms/step - loss: 0.0804 - sparse_categorical_accuracy: 0.9689\n",
            "Epoch 33/100\n",
            "60/60 [==============================] - 7s 122ms/step - loss: 0.0796 - sparse_categorical_accuracy: 0.9687\n",
            "Epoch 34/100\n",
            "60/60 [==============================] - 9s 143ms/step - loss: 0.0695 - sparse_categorical_accuracy: 0.9736 - val_loss: 0.2776 - val_sparse_categorical_accuracy: 0.9255\n",
            "Epoch 35/100\n",
            "60/60 [==============================] - 7s 122ms/step - loss: 0.0708 - sparse_categorical_accuracy: 0.9730\n",
            "Epoch 36/100\n",
            "60/60 [==============================] - 7s 121ms/step - loss: 0.0688 - sparse_categorical_accuracy: 0.9745\n",
            "Epoch 37/100\n",
            "60/60 [==============================] - 7s 122ms/step - loss: 0.0677 - sparse_categorical_accuracy: 0.9751\n",
            "Epoch 38/100\n",
            "60/60 [==============================] - 7s 122ms/step - loss: 0.0667 - sparse_categorical_accuracy: 0.9752\n",
            "Epoch 39/100\n",
            "60/60 [==============================] - 7s 122ms/step - loss: 0.0605 - sparse_categorical_accuracy: 0.9772\n",
            "Epoch 40/100\n",
            "60/60 [==============================] - 7s 122ms/step - loss: 0.0602 - sparse_categorical_accuracy: 0.9774\n",
            "Epoch 41/100\n",
            "60/60 [==============================] - 7s 121ms/step - loss: 0.0584 - sparse_categorical_accuracy: 0.9781\n",
            "Epoch 42/100\n",
            "60/60 [==============================] - 7s 121ms/step - loss: 0.0587 - sparse_categorical_accuracy: 0.9777\n",
            "Epoch 43/100\n",
            "60/60 [==============================] - 7s 121ms/step - loss: 0.0579 - sparse_categorical_accuracy: 0.9776\n",
            "Epoch 44/100\n",
            "60/60 [==============================] - 7s 122ms/step - loss: 0.0530 - sparse_categorical_accuracy: 0.9799\n",
            "Epoch 45/100\n",
            "60/60 [==============================] - 7s 122ms/step - loss: 0.0539 - sparse_categorical_accuracy: 0.9795\n",
            "Epoch 46/100\n",
            "60/60 [==============================] - 7s 121ms/step - loss: 0.0526 - sparse_categorical_accuracy: 0.9801\n",
            "Epoch 47/100\n",
            "60/60 [==============================] - 7s 122ms/step - loss: 0.0479 - sparse_categorical_accuracy: 0.9822\n",
            "Epoch 48/100\n",
            "60/60 [==============================] - 7s 122ms/step - loss: 0.0493 - sparse_categorical_accuracy: 0.9819\n",
            "Epoch 49/100\n",
            "60/60 [==============================] - 7s 121ms/step - loss: 0.0514 - sparse_categorical_accuracy: 0.9807\n",
            "Epoch 50/100\n",
            "60/60 [==============================] - 7s 121ms/step - loss: 0.0460 - sparse_categorical_accuracy: 0.9830\n",
            "Epoch 51/100\n",
            "60/60 [==============================] - 8s 137ms/step - loss: 0.0465 - sparse_categorical_accuracy: 0.9830 - val_loss: 0.3451 - val_sparse_categorical_accuracy: 0.9289\n",
            "Epoch 52/100\n",
            "60/60 [==============================] - 7s 122ms/step - loss: 0.0449 - sparse_categorical_accuracy: 0.9836\n",
            "Epoch 53/100\n",
            "60/60 [==============================] - 7s 121ms/step - loss: 0.0451 - sparse_categorical_accuracy: 0.9842\n",
            "Epoch 54/100\n",
            "60/60 [==============================] - 7s 121ms/step - loss: 0.0438 - sparse_categorical_accuracy: 0.9845\n",
            "Epoch 55/100\n",
            "60/60 [==============================] - 7s 121ms/step - loss: 0.0428 - sparse_categorical_accuracy: 0.9846\n",
            "Epoch 56/100\n",
            "60/60 [==============================] - 7s 122ms/step - loss: 0.0439 - sparse_categorical_accuracy: 0.9838\n",
            "Epoch 57/100\n",
            "60/60 [==============================] - 7s 122ms/step - loss: 0.0428 - sparse_categorical_accuracy: 0.9845\n",
            "Epoch 58/100\n",
            "60/60 [==============================] - 7s 122ms/step - loss: 0.0433 - sparse_categorical_accuracy: 0.9847\n",
            "Epoch 59/100\n",
            "60/60 [==============================] - 7s 121ms/step - loss: 0.0397 - sparse_categorical_accuracy: 0.9858\n",
            "Epoch 60/100\n",
            "60/60 [==============================] - 7s 122ms/step - loss: 0.0387 - sparse_categorical_accuracy: 0.9862\n",
            "Epoch 61/100\n",
            "60/60 [==============================] - 7s 122ms/step - loss: 0.0444 - sparse_categorical_accuracy: 0.9839\n",
            "Epoch 62/100\n",
            "60/60 [==============================] - 7s 121ms/step - loss: 0.0371 - sparse_categorical_accuracy: 0.9867\n",
            "Epoch 63/100\n",
            "60/60 [==============================] - 7s 121ms/step - loss: 0.0386 - sparse_categorical_accuracy: 0.9855\n",
            "Epoch 64/100\n",
            "60/60 [==============================] - 7s 122ms/step - loss: 0.0366 - sparse_categorical_accuracy: 0.9868\n",
            "Epoch 65/100\n",
            "60/60 [==============================] - 7s 122ms/step - loss: 0.0358 - sparse_categorical_accuracy: 0.9869\n",
            "Epoch 66/100\n",
            "60/60 [==============================] - 7s 122ms/step - loss: 0.0360 - sparse_categorical_accuracy: 0.9865\n",
            "Epoch 67/100\n",
            "60/60 [==============================] - 7s 122ms/step - loss: 0.0339 - sparse_categorical_accuracy: 0.9879\n",
            "Epoch 68/100\n",
            "60/60 [==============================] - 8s 137ms/step - loss: 0.0368 - sparse_categorical_accuracy: 0.9866 - val_loss: 0.3668 - val_sparse_categorical_accuracy: 0.9269\n",
            "Epoch 69/100\n",
            "60/60 [==============================] - 7s 122ms/step - loss: 0.0412 - sparse_categorical_accuracy: 0.9855\n",
            "Epoch 70/100\n",
            "60/60 [==============================] - 7s 122ms/step - loss: 0.0356 - sparse_categorical_accuracy: 0.9875\n",
            "Epoch 71/100\n",
            "60/60 [==============================] - 7s 122ms/step - loss: 0.0333 - sparse_categorical_accuracy: 0.9884\n",
            "Epoch 72/100\n",
            "60/60 [==============================] - 7s 121ms/step - loss: 0.0367 - sparse_categorical_accuracy: 0.9870\n",
            "Epoch 73/100\n",
            "60/60 [==============================] - 7s 121ms/step - loss: 0.0351 - sparse_categorical_accuracy: 0.9876\n",
            "Epoch 74/100\n",
            "60/60 [==============================] - 7s 122ms/step - loss: 0.0370 - sparse_categorical_accuracy: 0.9871\n",
            "Epoch 75/100\n",
            "60/60 [==============================] - 7s 122ms/step - loss: 0.0309 - sparse_categorical_accuracy: 0.9894\n",
            "Epoch 76/100\n",
            "60/60 [==============================] - 7s 122ms/step - loss: 0.0322 - sparse_categorical_accuracy: 0.9883\n",
            "Epoch 77/100\n",
            "60/60 [==============================] - 7s 122ms/step - loss: 0.0306 - sparse_categorical_accuracy: 0.9889\n",
            "Epoch 78/100\n",
            "60/60 [==============================] - 7s 121ms/step - loss: 0.0308 - sparse_categorical_accuracy: 0.9890\n",
            "Epoch 79/100\n",
            "60/60 [==============================] - 7s 122ms/step - loss: 0.0338 - sparse_categorical_accuracy: 0.9881\n",
            "Epoch 80/100\n",
            "60/60 [==============================] - 7s 122ms/step - loss: 0.0356 - sparse_categorical_accuracy: 0.9875\n",
            "Epoch 81/100\n",
            "60/60 [==============================] - 7s 121ms/step - loss: 0.0338 - sparse_categorical_accuracy: 0.9876\n",
            "Epoch 82/100\n",
            "60/60 [==============================] - 7s 121ms/step - loss: 0.0337 - sparse_categorical_accuracy: 0.9886\n",
            "Epoch 83/100\n",
            "60/60 [==============================] - 7s 122ms/step - loss: 0.0326 - sparse_categorical_accuracy: 0.9886\n",
            "Epoch 84/100\n",
            "60/60 [==============================] - 7s 122ms/step - loss: 0.0309 - sparse_categorical_accuracy: 0.9893\n",
            "Epoch 85/100\n",
            "60/60 [==============================] - 9s 143ms/step - loss: 0.0334 - sparse_categorical_accuracy: 0.9883 - val_loss: 0.4035 - val_sparse_categorical_accuracy: 0.9267\n",
            "Epoch 86/100\n",
            "60/60 [==============================] - 7s 122ms/step - loss: 0.0299 - sparse_categorical_accuracy: 0.9893\n",
            "Epoch 87/100\n",
            "60/60 [==============================] - 7s 122ms/step - loss: 0.0311 - sparse_categorical_accuracy: 0.9889\n",
            "Epoch 88/100\n",
            "60/60 [==============================] - 7s 122ms/step - loss: 0.0265 - sparse_categorical_accuracy: 0.9908\n",
            "Epoch 89/100\n",
            "60/60 [==============================] - 7s 121ms/step - loss: 0.0287 - sparse_categorical_accuracy: 0.9901\n",
            "Epoch 90/100\n",
            "60/60 [==============================] - 7s 121ms/step - loss: 0.0290 - sparse_categorical_accuracy: 0.9897\n",
            "Epoch 91/100\n",
            "60/60 [==============================] - 7s 121ms/step - loss: 0.0272 - sparse_categorical_accuracy: 0.9906\n",
            "Epoch 92/100\n",
            "60/60 [==============================] - 7s 122ms/step - loss: 0.0306 - sparse_categorical_accuracy: 0.9891\n",
            "Epoch 93/100\n",
            "60/60 [==============================] - 7s 122ms/step - loss: 0.0291 - sparse_categorical_accuracy: 0.9895\n",
            "Epoch 94/100\n",
            "60/60 [==============================] - 7s 122ms/step - loss: 0.0308 - sparse_categorical_accuracy: 0.9898\n",
            "Epoch 95/100\n",
            "60/60 [==============================] - 7s 122ms/step - loss: 0.0308 - sparse_categorical_accuracy: 0.9892\n",
            "Epoch 96/100\n",
            "60/60 [==============================] - 7s 122ms/step - loss: 0.0284 - sparse_categorical_accuracy: 0.9901\n",
            "Epoch 97/100\n",
            "60/60 [==============================] - 7s 122ms/step - loss: 0.0313 - sparse_categorical_accuracy: 0.9891\n",
            "Epoch 98/100\n",
            "60/60 [==============================] - 7s 121ms/step - loss: 0.0286 - sparse_categorical_accuracy: 0.9903\n",
            "Epoch 99/100\n",
            "60/60 [==============================] - 7s 121ms/step - loss: 0.0282 - sparse_categorical_accuracy: 0.9904\n",
            "Epoch 100/100\n",
            "60/60 [==============================] - 7s 122ms/step - loss: 0.0272 - sparse_categorical_accuracy: 0.9901\n",
            "743.7617872609999 37.18808936305\n"
          ]
        }
      ]
    },
    {
      "cell_type": "code",
      "source": [
        "def cpu():\n",
        "  with tf.device('/cpu:0'):\n",
        "    model = create_model()\n",
        "    model.compile(\n",
        "        optimizer=tf.keras.optimizers.Adam(learning_rate=1e-3, ),\n",
        "        loss='sparse_categorical_crossentropy',\n",
        "        metrics=['sparse_categorical_accuracy'])\n",
        "\n",
        "  model.fit(\n",
        "      x_train.astype(np.float32), y_train.astype(np.float32),\n",
        "      epochs=5,\n",
        "      steps_per_epoch=60,\n",
        "      validation_data=(x_test.astype(np.float32), y_test.astype(np.float32)),\n",
        "      validation_freq=17\n",
        "  )\n",
        "# cpu()\n",
        "print('CPU (s):')\n",
        "cpu_time = timeit.timeit('cpu()', number=1, setup=\"from __main__ import cpu\")\n",
        "print(cpu_time)"
      ],
      "metadata": {
        "id": "h2owIBZPUuu0"
      },
      "execution_count": null,
      "outputs": []
    },
    {
      "cell_type": "markdown",
      "metadata": {
        "id": "ESL6ltQTMm05"
      },
      "source": [
        "### Check the results (inference)\n",
        "\n",
        "Now that you are done training, see how well the model can predict fashion categories!"
      ]
    },
    {
      "cell_type": "code",
      "execution_count": null,
      "metadata": {
        "id": "SaYPv_aKId2d"
      },
      "outputs": [],
      "source": [
        "# LABEL_NAMES = ['t_shirt', 'trouser', 'pullover', 'dress', 'coat', 'sandal', 'shirt', 'sneaker', 'bag', 'ankle_boots']\n",
        "\n",
        "\n",
        "# cpu_model = create_model()\n",
        "# cpu_model.load_weights('./fashion_mnist.h5')\n",
        "\n",
        "# from matplotlib import pyplot\n",
        "# %matplotlib inline\n",
        "\n",
        "# def plot_predictions(images, predictions):\n",
        "#   n = images.shape[0]\n",
        "#   nc = int(np.ceil(n / 4))\n",
        "#   f, axes = pyplot.subplots(nc, 4)\n",
        "#   for i in range(nc * 4):\n",
        "#     y = i // 4\n",
        "#     x = i % 4\n",
        "#     axes[x, y].axis('off')\n",
        "    \n",
        "#     label = LABEL_NAMES[np.argmax(predictions[i])]\n",
        "#     confidence = np.max(predictions[i])\n",
        "#     if i > n:\n",
        "#       continue\n",
        "#     axes[x, y].imshow(images[i])\n",
        "#     axes[x, y].text(0.5, 0.5, label + '\\n%.3f' % confidence, fontsize=14)\n",
        "\n",
        "#   pyplot.gcf().set_size_inches(8, 8)  \n",
        "#   plot_predictions(np.squeeze(x_test[:16]), cpu_model.predict(x_test[:16]))"
      ]
    },
    {
      "cell_type": "markdown",
      "metadata": {
        "id": "2a5cGsSTEBQD"
      },
      "source": [
        "## What's next\n",
        "\n",
        "* Learn about [Cloud TPUs](https://cloud.google.com/tpu/docs) that Google designed and optimized specifically to speed up and scale up ML workloads for training and inference and to enable ML engineers and researchers to iterate more quickly.\n",
        "* Explore the range of [Cloud TPU tutorials and Colabs](https://cloud.google.com/tpu/docs/tutorials) to find other examples that can be used when implementing your ML project.\n",
        "\n",
        "On Google Cloud Platform, in addition to GPUs and TPUs available on pre-configured [deep learning VMs](https://cloud.google.com/deep-learning-vm/),  you will find [AutoML](https://cloud.google.com/automl/)*(beta)* for training custom models without writing code and [Cloud ML Engine](https://cloud.google.com/ml-engine/docs/) which will allows you to run parallel trainings and hyperparameter tuning of your custom models on powerful distributed hardware.\n"
      ]
    }
  ],
  "metadata": {
    "colab": {
      "provenance": [],
      "gpuType": "T4",
      "include_colab_link": true
    },
    "kernelspec": {
      "display_name": "Python 3",
      "name": "python3"
    },
    "gpuClass": "standard",
    "accelerator": "TPU"
  },
  "nbformat": 4,
  "nbformat_minor": 0
}